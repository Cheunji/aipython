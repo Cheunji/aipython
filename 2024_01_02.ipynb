{
  "nbformat": 4,
  "nbformat_minor": 0,
  "metadata": {
    "colab": {
      "provenance": [],
      "authorship_tag": "ABX9TyNs9u9UkOzTrIlY/eNzfULE",
      "include_colab_link": true
    },
    "kernelspec": {
      "name": "python3",
      "display_name": "Python 3"
    },
    "language_info": {
      "name": "python"
    }
  },
  "cells": [
    {
      "cell_type": "markdown",
      "metadata": {
        "id": "view-in-github",
        "colab_type": "text"
      },
      "source": [
        "<a href=\"https://colab.research.google.com/github/Cheunji/aipython/blob/main/2024_01_02.ipynb\" target=\"_parent\"><img src=\"https://colab.research.google.com/assets/colab-badge.svg\" alt=\"Open In Colab\"/></a>"
      ]
    },
    {
      "cell_type": "markdown",
      "source": [
        "2.1 입력"
      ],
      "metadata": {
        "id": "fhQlRxig5Zxh"
      }
    },
    {
      "cell_type": "code",
      "execution_count": null,
      "metadata": {
        "colab": {
          "base_uri": "https://localhost:8080/"
        },
        "id": "4lUewqzjtdLV",
        "outputId": "0e6761cc-ee16-46b6-8555-0da1b4c448e2"
      },
      "outputs": [
        {
          "output_type": "stream",
          "name": "stdout",
          "text": [
            "당신의 나이는?2\n",
            "2 살 이군요.\n",
            "<class 'str'>\n",
            "내년엔 3 살이 되네요\n",
            "<class 'int'>\n"
          ]
        }
      ],
      "source": [
        "# 나이를 입력받아서 출력하기\n",
        "a=input(\"당신의 나이는?\")\n",
        "print(a, \"살 이군요.\")\n",
        "print(type(a))\n",
        "\n",
        "# 내년의 나이를 계산하여 출력하기\n",
        "# 연산을 위해 입력받은 값의 자료형을 정수형으로 변환\n",
        "b=int(a)\n",
        "print(\"내년엔\", b+1, \"살이 되네요\")\n",
        "print(type(b))\n",
        "\n",
        "# 답안1 : print=int(input(\"당신의 나이는?\"))\n",
        "# 답안2 : print(\"내년엔\", int(a)+1, \"살이 되네요\")"
      ]
    },
    {
      "cell_type": "code",
      "source": [
        "# 오류 코드의 수정\n",
        "a=(input(\"당신의 나이는?\"))\n",
        "msg=a+\"살 이군요\"\n",
        "print(msg)\n",
        "print(\"내년엔\",int(a)+1,\"살이 되네요\")\n",
        "print(type(a))\n",
        "\n",
        "# a=int(input(\"당신의 나이는?\"))\n",
        "# msg=str(a)+\"살 이군요.\""
      ],
      "metadata": {
        "colab": {
          "base_uri": "https://localhost:8080/"
        },
        "id": "EH1BwUEn4CEJ",
        "outputId": "ea13bc36-953d-461d-a201-a7317c8a0f59"
      },
      "execution_count": null,
      "outputs": [
        {
          "output_type": "stream",
          "name": "stdout",
          "text": [
            "당신의 나이는?22\n",
            "22살 이군요\n",
            "내년엔 23 살이 되네요\n",
            "<class 'str'>\n"
          ]
        }
      ]
    },
    {
      "cell_type": "markdown",
      "source": [
        "2.2 출력"
      ],
      "metadata": {
        "id": "vXQUpXh25d3w"
      }
    },
    {
      "cell_type": "code",
      "source": [
        "a=\"파이썬\"\n",
        "# print(a,\"아 반가워.\")\n",
        "\n",
        "# msg=a+\"아 반가워.\"\n",
        "# print(msg)\n",
        "\n",
        "# 형식지정자의 사용 : 출력문 안에 다양한 데이터 있을 시 편리\n",
        "print(\"%s아 반가워~\"%a) # s=str 문자열 출력\n",
        "b=20\n",
        "print(\"%s아 반가워~ %d살 이구나~\"%(a,b))\n",
        "\n",
        "# format문\n",
        "print(\"오늘은 {}월 {}일 입니다.\".format(6,26))\n",
        "print(\"오늘은 {:d}월 {:5.2f}일 입니다.\".format(6,26))"
      ],
      "metadata": {
        "colab": {
          "base_uri": "https://localhost:8080/"
        },
        "id": "Np4Dxgnu5gLA",
        "outputId": "26890680-3e3c-45b5-cf3b-c2253785bb4a"
      },
      "execution_count": null,
      "outputs": [
        {
          "output_type": "stream",
          "name": "stdout",
          "text": [
            "파이썬아 반가워~\n",
            "파이썬아 반가워~ 20살 이구나~\n",
            "오늘은 6월 26일 입니다.\n",
            "오늘은 6월 26.00일 입니다.\n"
          ]
        }
      ]
    },
    {
      "cell_type": "code",
      "source": [
        "name=\"홍길동\"\n",
        "age=20.5\n",
        "# 이름은        홍길동이고 나이는 20.50입니다. .format 사용\n",
        "print(\"이름은{:10s}이고 나이는 {:.2f}입니다.\".format(name, age))\n"
      ],
      "metadata": {
        "colab": {
          "base_uri": "https://localhost:8080/"
        },
        "id": "WxTDyYXr9I0p",
        "outputId": "d3e9f6a4-9f91-4d6b-a9ae-99fdbebafa86"
      },
      "execution_count": null,
      "outputs": [
        {
          "output_type": "stream",
          "name": "stdout",
          "text": [
            "이름은홍길동       이고 나이는 20.50입니다.\n"
          ]
        }
      ]
    },
    {
      "cell_type": "markdown",
      "source": [
        "실습"
      ],
      "metadata": {
        "id": "LtB0-QgJBvxg"
      }
    },
    {
      "cell_type": "code",
      "source": [
        "# Program 2-6\n",
        "Lab = 105\n",
        "print('우리가 수업하는 실습실:')\n",
        "print(Lab)"
      ],
      "metadata": {
        "colab": {
          "base_uri": "https://localhost:8080/"
        },
        "id": "rEDSVR2DBxLA",
        "outputId": "9bfd72f8-6825-4720-b82b-de077835880b"
      },
      "execution_count": null,
      "outputs": [
        {
          "output_type": "stream",
          "name": "stdout",
          "text": [
            "우리가 수업하는 실습실:\n",
            "105\n"
          ]
        }
      ]
    },
    {
      "cell_type": "code",
      "source": [
        "# Program 2-7\n",
        "Lab=105\n",
        "print('우리가 수업하는 실습실: ', Lab)"
      ],
      "metadata": {
        "colab": {
          "base_uri": "https://localhost:8080/"
        },
        "id": "EGwkNSTZCEr_",
        "outputId": "eba75f63-eacc-4c9e-8bcf-1a28024db271"
      },
      "execution_count": null,
      "outputs": [
        {
          "output_type": "stream",
          "name": "stdout",
          "text": [
            "우리가 수업하는 실습실:  105\n"
          ]
        }
      ]
    },
    {
      "cell_type": "code",
      "source": [
        "# Program 2-8\n",
        "my_id = 20150001\n",
        "grade = 1\n",
        "print('나의 학번: ')\n",
        "print(my_id)\n",
        "print('학년: ')\n",
        "print(grade)"
      ],
      "metadata": {
        "colab": {
          "base_uri": "https://localhost:8080/"
        },
        "id": "173m81fyCM2n",
        "outputId": "4a460e25-7983-4f9f-ecf9-53ab0b372623"
      },
      "execution_count": null,
      "outputs": [
        {
          "output_type": "stream",
          "name": "stdout",
          "text": [
            "나의 학번: \n",
            "20150001\n",
            "학년: \n",
            "1\n"
          ]
        }
      ]
    },
    {
      "cell_type": "code",
      "source": [
        "# Program 2-9\n",
        "dollars = 2.75\n",
        "print('I have', dollars, 'in my account.')\n",
        "\n",
        "dollars = 99.95\n",
        "print('But now I have', dollars, 'in my account!')"
      ],
      "metadata": {
        "colab": {
          "base_uri": "https://localhost:8080/"
        },
        "id": "e4rUgKB6Cfu3",
        "outputId": "0eee3201-3be3-4c53-8a89-96181c3fd525"
      },
      "execution_count": null,
      "outputs": [
        {
          "output_type": "stream",
          "name": "stdout",
          "text": [
            "I have 2.75 in my account.\n",
            "But now I have 99.95 in my account!\n"
          ]
        }
      ]
    },
    {
      "cell_type": "code",
      "source": [
        "# Program 2-10\n",
        "department = '국어국문학과'\n",
        "name = '홍길동'\n",
        "print(department, name)"
      ],
      "metadata": {
        "colab": {
          "base_uri": "https://localhost:8080/"
        },
        "id": "k9aK3drvCvbv",
        "outputId": "0eb27078-41f9-4ae0-eed9-f40472172518"
      },
      "execution_count": null,
      "outputs": [
        {
          "output_type": "stream",
          "name": "stdout",
          "text": [
            "국어국문학과 홍길동\n"
          ]
        }
      ]
    },
    {
      "cell_type": "code",
      "source": [
        "# Program 2-11\n",
        "department = input('학과명: ')\n",
        "name = input('성명: ')\n",
        "print('안녕하세요', department, name)"
      ],
      "metadata": {
        "colab": {
          "base_uri": "https://localhost:8080/"
        },
        "id": "Wxs2Rns5C5vX",
        "outputId": "c00c019e-1768-4aa1-a60d-1e640b598ce3"
      },
      "execution_count": null,
      "outputs": [
        {
          "output_type": "stream",
          "name": "stdout",
          "text": [
            "학과명: 정치외교학과\n",
            "성명: 최은지\n",
            "안녕하세요 정치외교학과 최은지\n"
          ]
        }
      ]
    },
    {
      "cell_type": "code",
      "source": [
        "# Program 2-12\n",
        "name = input(\"당신의 이름은 무엇입니까?\")\n",
        "age = int(input('나이는 어떻게 되시나요?'))\n",
        "attending_time = float(input('통학시간은 얼마나 걸립니까?'))\n",
        "\n",
        "print('입력 정보는 다음과 같습니다.')\n",
        "print('이름:', name)\n",
        "print('나이:', age)\n",
        "print('통학시간:', attending_time)"
      ],
      "metadata": {
        "colab": {
          "base_uri": "https://localhost:8080/"
        },
        "id": "rZ_eFhOWDF_3",
        "outputId": "bfc2124d-9bdb-4230-fc63-1ba34a3181c3"
      },
      "execution_count": null,
      "outputs": [
        {
          "output_type": "stream",
          "name": "stdout",
          "text": [
            "당신의 이름은 무엇입니까?최은지\n",
            "나이는 어떻게 되시나요?22\n",
            "통학시간은 얼마나 걸립니까?1\n",
            "입력 정보는 다음과 같습니다.\n",
            "이름: 최은지\n",
            "나이: 22\n",
            "통학시간: 1.0\n"
          ]
        }
      ]
    },
    {
      "cell_type": "code",
      "source": [
        "# Program 2-13\n",
        "salary = 2500.0\n",
        "bonus = 1200.0\n",
        "pay = salary + bonus\n",
        "print('총 급여: ', pay)"
      ],
      "metadata": {
        "colab": {
          "base_uri": "https://localhost:8080/"
        },
        "id": "S3davWZKDn-P",
        "outputId": "73ec84b0-1af0-47d4-abd7-3ab46cffbb7b"
      },
      "execution_count": null,
      "outputs": [
        {
          "output_type": "stream",
          "name": "stdout",
          "text": [
            "총 급여:  3700.0\n"
          ]
        }
      ]
    },
    {
      "cell_type": "code",
      "source": [
        "# Program 2-14\n",
        "original_price = float(input(\"제품의 원가를 입력해주세요: \"))\n",
        "discount = original_price * 0.2\n",
        "sale_price = original_price - discount\n",
        "print('할인가격:', sale_price)"
      ],
      "metadata": {
        "colab": {
          "base_uri": "https://localhost:8080/"
        },
        "id": "aY1Sfu2aD1Av",
        "outputId": "cac352d6-bf94-4b1a-91e0-ce71ed1403d4"
      },
      "execution_count": null,
      "outputs": [
        {
          "output_type": "stream",
          "name": "stdout",
          "text": [
            "제품의 원가를 입력해주세요: 100\n",
            "할인가격: 80.0\n"
          ]
        }
      ]
    },
    {
      "cell_type": "code",
      "source": [
        "# Program 2-15\n",
        "test1 = float(input('첫 번재 과목 점수를 입력해주세요: '))\n",
        "test2 = float(input('두 번재 과목 점수를 입력해주세요: '))\n",
        "test3 = float(input('세 번재 과목 점수를 입력해주세요: '))\n",
        "\n",
        "average = (test1 + test2 + test3) / 3.0\n",
        "print('3 과목의 평균 점수: ', average)"
      ],
      "metadata": {
        "colab": {
          "base_uri": "https://localhost:8080/"
        },
        "id": "Tcqrwhj_EeO-",
        "outputId": "07bd82a4-21ac-4c15-b231-ca7531e960ab"
      },
      "execution_count": null,
      "outputs": [
        {
          "output_type": "stream",
          "name": "stdout",
          "text": [
            "첫 번재 과목 점수를 입력해주세요: 90\n",
            "두 번재 과목 점수를 입력해주세요: 80\n",
            "세 번재 과목 점수를 입력해주세요: 100\n",
            "3 과목의 평균 점수:  90.0\n"
          ]
        }
      ]
    },
    {
      "cell_type": "code",
      "source": [
        "# Program 2-16\n",
        "total_seconds = float(input('시간 값을 초 단위로 입력해주세요: '))\n",
        "hours = total_seconds // 3600\n",
        "minutes = (total_seconds // 60) % 60\n",
        "seconds = total_seconds % 60\n",
        "\n",
        "print('시 분 초는 다음과 같습니다.')\n",
        "print('시: ', hours)\n",
        "print('분: ', minutes)\n",
        "print('초: ', seconds)"
      ],
      "metadata": {
        "colab": {
          "base_uri": "https://localhost:8080/"
        },
        "id": "7uKKJTBHEyUf",
        "outputId": "0e498435-9a78-4852-a756-d8ea2a2b1c46"
      },
      "execution_count": null,
      "outputs": [
        {
          "output_type": "stream",
          "name": "stdout",
          "text": [
            "시간 값을 초 단위로 입력해주세요: 11730\n",
            "시 분 초는 다음과 같습니다.\n",
            "시:  3.0\n",
            "분:  15.0\n",
            "초:  30.0\n"
          ]
        }
      ]
    },
    {
      "cell_type": "code",
      "source": [
        "# Program 2-17\n",
        "future_value = float(input('목표 금액을 입력해주세요: '))\n",
        "rate = float(input('연간 이율을 입력해주세요: '))\n",
        "years = int(input('저축 기간을 연 단위로 입력해주세요: '))\n",
        "present_value = future_value / (1.0 + rate)**years\n",
        "print('적립 금액: ', present_value)"
      ],
      "metadata": {
        "colab": {
          "base_uri": "https://localhost:8080/"
        },
        "id": "AF71UMBIFQou",
        "outputId": "56bda856-032f-453e-e4aa-334ad996b877"
      },
      "execution_count": null,
      "outputs": [
        {
          "output_type": "stream",
          "name": "stdout",
          "text": [
            "목표 금액을 입력해주세요: 10000\n",
            "연간 이율을 입력해주세요: 0.05\n",
            "저축 기간을 연 단위로 입력해주세요: 10\n",
            "적립 금액:  6139.132535407592\n"
          ]
        }
      ]
    },
    {
      "cell_type": "code",
      "source": [
        "# Program 2-18\n",
        "print('a','b','c')\n",
        "print('a','b','c', sep='')\n",
        "print('a','b','c', sep='***')"
      ],
      "metadata": {
        "colab": {
          "base_uri": "https://localhost:8080/"
        },
        "id": "8Omy8oI9F1Qo",
        "outputId": "ff3f7a18-f6de-436c-a48f-cdf67595bef3"
      },
      "execution_count": null,
      "outputs": [
        {
          "output_type": "stream",
          "name": "stdout",
          "text": [
            "a b c\n",
            "abc\n",
            "a***b***c\n"
          ]
        }
      ]
    },
    {
      "cell_type": "code",
      "source": [
        "# Program 2-19\n",
        "print('a')\n",
        "print('b')\n",
        "print('c', end='')\n",
        "print('d', end='')\n",
        "print('e', end='***')\n",
        "print('f')"
      ],
      "metadata": {
        "colab": {
          "base_uri": "https://localhost:8080/"
        },
        "id": "sUxf-F0yGFPv",
        "outputId": "3bd09b41-1cf8-40cc-b22d-5ff8691876b9"
      },
      "execution_count": null,
      "outputs": [
        {
          "output_type": "stream",
          "name": "stdout",
          "text": [
            "a\n",
            "b\n",
            "cde***f\n"
          ]
        }
      ]
    },
    {
      "cell_type": "code",
      "source": [
        "# Program 2-20\n",
        "amount_due = 5000.0\n",
        "monthly_payment = amount_due / 12.0\n",
        "print('월급여: ', monthly_payment)"
      ],
      "metadata": {
        "colab": {
          "base_uri": "https://localhost:8080/"
        },
        "id": "QDy-SFZ_GZ2g",
        "outputId": "deec95ec-de47-4800-ad24-c199b61fadd2"
      },
      "execution_count": null,
      "outputs": [
        {
          "output_type": "stream",
          "name": "stdout",
          "text": [
            "월급여:  416.6666666666667\n"
          ]
        }
      ]
    },
    {
      "cell_type": "code",
      "source": [
        "# Program 2-21\n",
        "amount_due = 5000.0\n",
        "monthly_payment = amount_due / 12.0\n",
        "print('월급여: ', format(monthly_payment, '.2f'))"
      ],
      "metadata": {
        "colab": {
          "base_uri": "https://localhost:8080/"
        },
        "id": "eLHwnB0HGk8_",
        "outputId": "db6d29b9-4d53-4177-c01e-de0a5ee65616"
      },
      "execution_count": null,
      "outputs": [
        {
          "output_type": "stream",
          "name": "stdout",
          "text": [
            "월급여:  416.67\n"
          ]
        }
      ]
    },
    {
      "cell_type": "code",
      "source": [
        "# Program 2-22\n",
        "monthly_pay = 5000.0\n",
        "annual_pay = monthly_pay * 12\n",
        "print('Your annual pay is $', format(annual_pay, ',.2f'), sep='')"
      ],
      "metadata": {
        "colab": {
          "base_uri": "https://localhost:8080/"
        },
        "id": "39befoFhGyAA",
        "outputId": "e6de01ed-154c-4d53-cd7f-137762dbf20c"
      },
      "execution_count": null,
      "outputs": [
        {
          "output_type": "stream",
          "name": "stdout",
          "text": [
            "Your annual pay is $60,000.00\n"
          ]
        }
      ]
    },
    {
      "cell_type": "code",
      "source": [
        "# Program 2-23\n",
        "num1 = 127.899\n",
        "num2 = 3456.148\n",
        "num3 = 3.776\n",
        "num4 = 264.821\n",
        "num5 = 88.081\n",
        "num6 = 799.999\n",
        "\n",
        "print(format(num1, '7.2f'))\n",
        "print(format(num2, '7.2f'))\n",
        "print(format(num3, '7.2f'))\n",
        "print(format(num4, '7.2f'))\n",
        "print(format(num5, '7.2f'))\n",
        "print(format(num6, '7.2f'))"
      ],
      "metadata": {
        "colab": {
          "base_uri": "https://localhost:8080/"
        },
        "id": "IEOluR0uHN9Y",
        "outputId": "56501be1-7b63-4e6c-f5ee-78cbdb8625d8"
      },
      "execution_count": null,
      "outputs": [
        {
          "output_type": "stream",
          "name": "stdout",
          "text": [
            " 127.90\n",
            "3456.15\n",
            "   3.78\n",
            " 264.82\n",
            "  88.08\n",
            " 800.00\n"
          ]
        }
      ]
    }
  ]
}