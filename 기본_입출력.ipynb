{
  "nbformat": 4,
  "nbformat_minor": 0,
  "metadata": {
    "colab": {
      "provenance": [],
      "authorship_tag": "ABX9TyOs0c7ToBhHDh4bexlDk43j",
      "include_colab_link": true
    },
    "kernelspec": {
      "name": "python3",
      "display_name": "Python 3"
    },
    "language_info": {
      "name": "python"
    }
  },
  "cells": [
    {
      "cell_type": "markdown",
      "metadata": {
        "id": "view-in-github",
        "colab_type": "text"
      },
      "source": [
        "<a href=\"https://colab.research.google.com/github/Cheunji/aipython/blob/main/%EA%B8%B0%EB%B3%B8_%EC%9E%85%EC%B6%9C%EB%A0%A5.ipynb\" target=\"_parent\"><img src=\"https://colab.research.google.com/assets/colab-badge.svg\" alt=\"Open In Colab\"/></a>"
      ]
    },
    {
      "cell_type": "markdown",
      "source": [
        "Program 2-1"
      ],
      "metadata": {
        "id": "OxR7nrUlGGWu"
      }
    },
    {
      "cell_type": "code",
      "execution_count": null,
      "metadata": {
        "colab": {
          "base_uri": "https://localhost:8080/"
        },
        "id": "623DzTIhFtjx",
        "outputId": "864eeef5-bf1b-49ac-a612-db3ae91a02b9"
      },
      "outputs": [
        {
          "output_type": "stream",
          "name": "stdout",
          "text": [
            "부산대학교\n",
            "기초교육원\n",
            "컴퓨팅적 사고와 코딩\n"
          ]
        }
      ],
      "source": [
        "#화면에 여러 줄을\n",
        "#출력하는 방법에 대한 코드입니다.\n",
        "print('부산대학교')\n",
        "print('기초교육원')\n",
        "print('컴퓨팅적 사고와 코딩')"
      ]
    },
    {
      "cell_type": "markdown",
      "source": [
        "Program 2-2"
      ],
      "metadata": {
        "id": "Vn_OqM99GI3o"
      }
    },
    {
      "cell_type": "code",
      "source": [
        "print(\"부산대학교\") #첫 번째 줄에 '부산대학교'를 출력합니다.\n",
        "print(\"기초교육원\") #두 번째 줄에 '기초교육원'을 출력합니다.\n",
        "print(\"컴퓨팅적 사고와 코딩\") #세 번째 줄에 '파이썬 프로그래밍 기초'를 출력합니다."
      ],
      "metadata": {
        "colab": {
          "base_uri": "https://localhost:8080/"
        },
        "id": "TMGoP9VXF3sM",
        "outputId": "59a229d1-8d29-4605-a88a-b0e1de7d63c2"
      },
      "execution_count": null,
      "outputs": [
        {
          "output_type": "stream",
          "name": "stdout",
          "text": [
            "부산대학교\n",
            "기초교육원\n",
            "컴퓨팅적 사고와 코딩\n"
          ]
        }
      ]
    },
    {
      "cell_type": "markdown",
      "source": [
        "Program 2-3"
      ],
      "metadata": {
        "id": "3o537kaxGKwY"
      }
    },
    {
      "cell_type": "code",
      "source": [
        "print(\"\"\"One\n",
        "Two\n",
        "Three\"\"\")"
      ],
      "metadata": {
        "colab": {
          "base_uri": "https://localhost:8080/"
        },
        "id": "0C7dpYrhF9_i",
        "outputId": "4025d058-5a86-47c3-cbed-2fe6724099df"
      },
      "execution_count": null,
      "outputs": [
        {
          "output_type": "stream",
          "name": "stdout",
          "text": [
            "One\n",
            "Two\n",
            "Three\n"
          ]
        }
      ]
    },
    {
      "cell_type": "code",
      "source": [],
      "metadata": {
        "id": "oboMOs2uGFE1"
      },
      "execution_count": null,
      "outputs": []
    }
  ]
}