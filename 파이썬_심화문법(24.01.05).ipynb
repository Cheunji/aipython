{
  "nbformat": 4,
  "nbformat_minor": 0,
  "metadata": {
    "colab": {
      "provenance": [],
      "authorship_tag": "ABX9TyNt7Wohluoa7TZl+kw/VdTn",
      "include_colab_link": true
    },
    "kernelspec": {
      "name": "python3",
      "display_name": "Python 3"
    },
    "language_info": {
      "name": "python"
    }
  },
  "cells": [
    {
      "cell_type": "markdown",
      "metadata": {
        "id": "view-in-github",
        "colab_type": "text"
      },
      "source": [
        "<a href=\"https://colab.research.google.com/github/Cheunji/aipython/blob/main/%ED%8C%8C%EC%9D%B4%EC%8D%AC_%EC%8B%AC%ED%99%94%EB%AC%B8%EB%B2%95(24.01.05).ipynb\" target=\"_parent\"><img src=\"https://colab.research.google.com/assets/colab-badge.svg\" alt=\"Open In Colab\"/></a>"
      ]
    },
    {
      "cell_type": "markdown",
      "source": [
        "1. Split & Join"
      ],
      "metadata": {
        "id": "Haf70mjxQkfu"
      }
    },
    {
      "cell_type": "code",
      "execution_count": 5,
      "metadata": {
        "colab": {
          "base_uri": "https://localhost:8080/"
        },
        "id": "sYUdfTQzHXag",
        "outputId": "852848e2-57c3-4bb6-b45b-51e7bfa923cb"
      },
      "outputs": [
        {
          "output_type": "stream",
          "name": "stdout",
          "text": [
            "John,30,Engineer\n",
            "Alice,25,Designer\n",
            "Bob,22,Artist\n",
            "['John,30,Engineer', 'Alice,25,Designer', 'Bob,22,Artist']\n",
            "Name: John Age: 30 Occupation: Engineer\n",
            "Name: Alice Age: 25 Occupation: Designer\n",
            "Name: Bob Age: 22 Occupation: Artist\n",
            "['Bob', '22', 'Artist']\n"
          ]
        }
      ],
      "source": [
        "data=\"John,30,Engineer\\nAlice,25,Designer\\nBob,22,Artist\"\n",
        "lines=data.split(\"\\n\")\n",
        "print(data)   # data : 문자열\n",
        "print(lines)  # lines : 리스트\n",
        "\n",
        "for line in lines:\n",
        "  fields = line.split(\",\")\n",
        "  print(\"Name:\", fields[0], \"Age:\", fields[1], \"Occupation:\", fields[2])"
      ]
    },
    {
      "cell_type": "code",
      "source": [
        "words = ['Hello', 'world', 'this', 'is', 'a', 'test'] # words: 리스트\n",
        "sentence = ' '.join(words)\n",
        "print(sentence)            # sentence: 문자열"
      ],
      "metadata": {
        "colab": {
          "base_uri": "https://localhost:8080/"
        },
        "id": "iQ1QISigN2Lv",
        "outputId": "148d8398-939b-418a-e1c1-838d24a5a063"
      },
      "execution_count": 7,
      "outputs": [
        {
          "output_type": "stream",
          "name": "stdout",
          "text": [
            "Hello world this is a test\n"
          ]
        }
      ]
    },
    {
      "cell_type": "code",
      "source": [
        "# Lab\n",
        "# 1. Split the string\n",
        "\n",
        "a = \"Geeks for Geeks\"\n",
        "# b = a.split(\" \")\n",
        "# print(b)\n",
        "print(a.split(\" \"))\n",
        "\n",
        "# 2. Join the list of strings\n",
        "c = ['Geeks', 'for', 'Geeks']\n",
        "# d = '-'.join(c)\n",
        "# print(d)\n",
        "print('-'.join(c))"
      ],
      "metadata": {
        "colab": {
          "base_uri": "https://localhost:8080/"
        },
        "id": "SY_qJ5d4PqAp",
        "outputId": "8b14c9b6-886d-499f-ad16-411716a19d33"
      },
      "execution_count": 13,
      "outputs": [
        {
          "output_type": "stream",
          "name": "stdout",
          "text": [
            "['Geeks', 'for', 'Geeks']\n",
            "Geeks-for-Geeks\n"
          ]
        }
      ]
    },
    {
      "cell_type": "markdown",
      "source": [
        "2. list comprehension"
      ],
      "metadata": {
        "id": "N4rB5WIBQtzV"
      }
    },
    {
      "cell_type": "code",
      "source": [
        "# squares = [x**2 for x in range(5) if x%2==0] # 짝수만\n",
        "# print(squares)\n",
        "\n",
        "squares = [x**2 for x in range(5)]\n",
        "print(squares)"
      ],
      "metadata": {
        "colab": {
          "base_uri": "https://localhost:8080/"
        },
        "id": "O-cOYE-MSpig",
        "outputId": "fe2718db-0c5f-4ee9-8390-0660cafeeffc"
      },
      "execution_count": 14,
      "outputs": [
        {
          "output_type": "stream",
          "name": "stdout",
          "text": [
            "[0, 4, 16]\n"
          ]
        }
      ]
    },
    {
      "cell_type": "code",
      "source": [
        "squares=[]\n",
        "for x in range(5):\n",
        "  squares.append(x**2)\n",
        "print(squares)"
      ],
      "metadata": {
        "colab": {
          "base_uri": "https://localhost:8080/"
        },
        "id": "gqzpTQFbS50O",
        "outputId": "94d16046-3710-4544-df33-8eeba9ac7289"
      },
      "execution_count": 15,
      "outputs": [
        {
          "output_type": "stream",
          "name": "stdout",
          "text": [
            "[0, 1, 4, 9, 16]\n"
          ]
        }
      ]
    },
    {
      "cell_type": "code",
      "source": [
        "# 1에서 20까지(iterable)의 3의 배수의 제곱(condition) 리스트 만들기\n",
        "squares = [x**2 for x in range(1, 21) if x%3==0]\n",
        "print(squares)"
      ],
      "metadata": {
        "colab": {
          "base_uri": "https://localhost:8080/"
        },
        "id": "ZEcrhQG2TTkR",
        "outputId": "0f12ce92-d288-4015-cb9a-bd79f583b8ad"
      },
      "execution_count": 19,
      "outputs": [
        {
          "output_type": "stream",
          "name": "stdout",
          "text": [
            "[9, 36, 81, 144, 225, 324]\n"
          ]
        }
      ]
    },
    {
      "cell_type": "code",
      "source": [
        "# Lab\n",
        "# 1.\n",
        "a = [x**2 for x in range(1,6)]\n",
        "print(a)\n",
        "\n",
        "# 2.\n",
        "city = [\"Seoul\", \"New York\", \"London\", \"Shanghai\", \"Paris\", \"Tokyo\"]\n",
        "s_city = [x for x in city if \"S\" in x]\n",
        "print(s_city)"
      ],
      "metadata": {
        "colab": {
          "base_uri": "https://localhost:8080/"
        },
        "id": "8qjcSaO1Tepy",
        "outputId": "5555f582-a826-4f7d-d1ee-ff6bd4124066"
      },
      "execution_count": 26,
      "outputs": [
        {
          "output_type": "stream",
          "name": "stdout",
          "text": [
            "[1, 4, 9, 16, 25]\n",
            "['Seoul', 'Shanghai']\n"
          ]
        }
      ]
    },
    {
      "cell_type": "code",
      "source": [
        "city=[]\n",
        "\n",
        "for c in [\"Seoul\", \"New York\", \"London\", \"Shanghai\", \"Paris\", \"Tokyo\"]:\n",
        "  if \"S\" in c:\n",
        "    city.append(c)\n",
        "\n",
        "print(city)"
      ],
      "metadata": {
        "colab": {
          "base_uri": "https://localhost:8080/"
        },
        "id": "HFRhuJCAVi2b",
        "outputId": "bc1cdd45-3cf3-44a8-abc0-2898487f0516"
      },
      "execution_count": 27,
      "outputs": [
        {
          "output_type": "stream",
          "name": "stdout",
          "text": [
            "['Seoul', 'Shanghai']\n"
          ]
        }
      ]
    },
    {
      "cell_type": "markdown",
      "source": [
        "3. enumerate & zip"
      ],
      "metadata": {
        "id": "NnDBijw2VfEv"
      }
    },
    {
      "cell_type": "code",
      "source": [
        "# 3.1 enumerate\n",
        "fruits = ['apple', 'banana', 'cherry']\n",
        "for index, fruit in enumerate(fruits):\n",
        "  print(index, fruit)"
      ],
      "metadata": {
        "colab": {
          "base_uri": "https://localhost:8080/"
        },
        "id": "Sn43yGqpUGvt",
        "outputId": "3c9c3a62-fe8f-41b5-b984-3e18b9934ddd"
      },
      "execution_count": 28,
      "outputs": [
        {
          "output_type": "stream",
          "name": "stdout",
          "text": [
            "0 apple\n",
            "1 banana\n",
            "2 cherry\n"
          ]
        }
      ]
    },
    {
      "cell_type": "code",
      "source": [
        "# Lab\n",
        "# 1. Enumerate\n",
        "\n",
        "fruits = ['a','b','c']\n",
        "for index, fruit in enumerate(fruits):\n",
        "  print(\"fruit\",index, \"name is\", fruit)\n",
        "\n",
        "for idx in range(len(fruits)):\n",
        "  print(\"fruit\", idx, \"name is\", fruits[idx])\n"
      ],
      "metadata": {
        "colab": {
          "base_uri": "https://localhost:8080/"
        },
        "id": "hQlu_-YVWY96",
        "outputId": "f5c8eb37-3a39-41ac-fd96-bab96abadca9"
      },
      "execution_count": 40,
      "outputs": [
        {
          "output_type": "stream",
          "name": "stdout",
          "text": [
            "fruit 0 name is a\n",
            "fruit 1 name is b\n",
            "fruit 2 name is c\n",
            "fruit 0 name is a\n",
            "fruit 1 name is b\n",
            "fruit 2 name is c\n"
          ]
        }
      ]
    },
    {
      "cell_type": "code",
      "source": [
        "# 3.2 zip\n",
        "\n",
        "names = ['John', 'Jane', 'Doe']\n",
        "ages = [25, 30, 35]\n",
        "\n",
        "for name, age in zip(names, ages):\n",
        "  print(f\"{name} is {age} years old.\") # format문 형식 기억\n",
        "\n",
        "# 두 개의 리스트를 사전형으로\n",
        "# 변수명 = dict(zip(key, values))"
      ],
      "metadata": {
        "colab": {
          "base_uri": "https://localhost:8080/"
        },
        "id": "ZL4KCg2OW1zU",
        "outputId": "2fb13e69-5762-46c4-91f8-45bf4077377e"
      },
      "execution_count": 45,
      "outputs": [
        {
          "output_type": "stream",
          "name": "stdout",
          "text": [
            "John is 25 years old.\n",
            "Jane is 30 years old.\n",
            "Doe is 35 years old.\n"
          ]
        }
      ]
    },
    {
      "cell_type": "code",
      "source": [
        "# Lab\n",
        "# 1. zip\n",
        "\n",
        "name = [\"M\", \"N\", \"S\", \"A\"]\n",
        "roll_no = [4, 1, 3, 2]\n",
        "new=[]\n",
        "\n",
        "for a, b in zip(name, roll_no):\n",
        "  new.append((a,b))\n",
        "print(new)\n",
        "\n",
        "# 2. zip & enumerate\n",
        "\n",
        "names = ['M', 'R', 'C']\n",
        "ages = [24, 50, 18]\n",
        "\n",
        "for n, a in zip(names, ages):"
      ],
      "metadata": {
        "colab": {
          "base_uri": "https://localhost:8080/"
        },
        "id": "3Ntjy6yGZeJ8",
        "outputId": "33e77665-7391-42ba-9c05-9004084aa9eb"
      },
      "execution_count": 52,
      "outputs": [
        {
          "output_type": "stream",
          "name": "stdout",
          "text": [
            "[('M', 4), ('N', 1), ('S', 3), ('A', 2)]\n"
          ]
        }
      ]
    },
    {
      "cell_type": "markdown",
      "source": [
        "4. lambda & map"
      ],
      "metadata": {
        "id": "Ks5MC0kSefIE"
      }
    },
    {
      "cell_type": "code",
      "source": [
        "# 4.1 lambda\n",
        "\n",
        "add = lambda x,y: x+y\n",
        "print(add(1,2) )"
      ],
      "metadata": {
        "colab": {
          "base_uri": "https://localhost:8080/"
        },
        "id": "iQSyZzHWa0iv",
        "outputId": "33ad5319-a535-4bc4-84d8-50cdb33fba2c"
      },
      "execution_count": 56,
      "outputs": [
        {
          "output_type": "stream",
          "name": "stdout",
          "text": [
            "3\n"
          ]
        }
      ]
    },
    {
      "cell_type": "code",
      "source": [
        "# 4.2 map\n",
        "\n",
        "numbers = [1,2,3,4]\n",
        "squared = list(map(lambda x: x*2, numbers))\n",
        "print(squared)"
      ],
      "metadata": {
        "colab": {
          "base_uri": "https://localhost:8080/"
        },
        "id": "NDa05px2eWGg",
        "outputId": "e04d5d4b-3f04-4443-de51-082187ac1fc5"
      },
      "execution_count": 58,
      "outputs": [
        {
          "output_type": "stream",
          "name": "stdout",
          "text": [
            "[2, 4, 6, 8]\n"
          ]
        }
      ]
    }
  ]
}