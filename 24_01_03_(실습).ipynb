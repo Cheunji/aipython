{
  "nbformat": 4,
  "nbformat_minor": 0,
  "metadata": {
    "colab": {
      "provenance": [],
      "authorship_tag": "ABX9TyPwB5PkMM+i4k++gFla7STa",
      "include_colab_link": true
    },
    "kernelspec": {
      "name": "python3",
      "display_name": "Python 3"
    },
    "language_info": {
      "name": "python"
    }
  },
  "cells": [
    {
      "cell_type": "markdown",
      "metadata": {
        "id": "view-in-github",
        "colab_type": "text"
      },
      "source": [
        "<a href=\"https://colab.research.google.com/github/Cheunji/aipython/blob/main/24_01_03_(%EC%8B%A4%EC%8A%B5).ipynb\" target=\"_parent\"><img src=\"https://colab.research.google.com/assets/colab-badge.svg\" alt=\"Open In Colab\"/></a>"
      ]
    },
    {
      "cell_type": "markdown",
      "source": [
        "중첩 반복문"
      ],
      "metadata": {
        "id": "aMf3vePgQ5aN"
      }
    },
    {
      "cell_type": "code",
      "source": [
        "# Program 5-16\n",
        "BASE_SIZE = 8\n",
        "\n",
        "for r in range(BASE_SIZE):\n",
        "  for c in range(r+1):\n",
        "    print('*', end='')\n",
        "  print()"
      ],
      "metadata": {
        "colab": {
          "base_uri": "https://localhost:8080/"
        },
        "id": "f0HxMFSgV60f",
        "outputId": "58fdbb21-7233-4ba2-b7bb-584679bea153"
      },
      "execution_count": 2,
      "outputs": [
        {
          "output_type": "stream",
          "name": "stdout",
          "text": [
            "*\n",
            "**\n",
            "***\n",
            "****\n",
            "*****\n",
            "******\n",
            "*******\n",
            "********\n"
          ]
        }
      ]
    },
    {
      "cell_type": "code",
      "source": [
        "# Program 5-16 변형\n",
        "BASE_SIZE = 8\n",
        "\n",
        "for r in range(1, BASE_SIZE+1):\n",
        "  for c in range(BASE_SIZE+1-r):\n",
        "    # 풀이 : (BASE_SIZE+1)-r\n",
        "    # r=1, c는 8번 반복\n",
        "    # r=2, c는 7번 반복\n",
        "    # ... r=8, c는 1번 반복\n",
        "    print('*', end='')\n",
        "  print()"
      ],
      "metadata": {
        "colab": {
          "base_uri": "https://localhost:8080/"
        },
        "id": "cg4XkQ_7Wz0x",
        "outputId": "8b03cad8-c87d-42b3-a853-1ea064866cd2"
      },
      "execution_count": 14,
      "outputs": [
        {
          "output_type": "stream",
          "name": "stdout",
          "text": [
            "********\n",
            "*******\n",
            "******\n",
            "*****\n",
            "****\n",
            "***\n",
            "**\n",
            "*\n"
          ]
        }
      ]
    },
    {
      "cell_type": "code",
      "source": [],
      "metadata": {
        "id": "ABt8bSecXUuC"
      },
      "execution_count": null,
      "outputs": []
    }
  ]
}