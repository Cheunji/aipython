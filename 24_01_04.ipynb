{
  "nbformat": 4,
  "nbformat_minor": 0,
  "metadata": {
    "colab": {
      "provenance": [],
      "authorship_tag": "ABX9TyP3haYFy9EV4b8SbB1m/0mM",
      "include_colab_link": true
    },
    "kernelspec": {
      "name": "python3",
      "display_name": "Python 3"
    },
    "language_info": {
      "name": "python"
    }
  },
  "cells": [
    {
      "cell_type": "markdown",
      "metadata": {
        "id": "view-in-github",
        "colab_type": "text"
      },
      "source": [
        "<a href=\"https://colab.research.google.com/github/Cheunji/aipython/blob/main/24_01_04.ipynb\" target=\"_parent\"><img src=\"https://colab.research.google.com/assets/colab-badge.svg\" alt=\"Open In Colab\"/></a>"
      ]
    },
    {
      "cell_type": "code",
      "execution_count": 16,
      "metadata": {
        "colab": {
          "base_uri": "https://localhost:8080/"
        },
        "id": "bP7nJMRgcn1f",
        "outputId": "b08976f8-883e-4546-cef7-19118e256b7d"
      },
      "outputs": [
        {
          "output_type": "stream",
          "name": "stdout",
          "text": [
            "학생의 점수를 입력하세요.90\n",
            "학생의 점수를 입력하세요.70\n",
            "학생의 점수를 입력하세요.30\n",
            "학생의 점수를 입력하세요.x\n",
            "입력 데이터 출력 :  [90, 70, 30]\n",
            "합계 :  190\n",
            "총 인원수 :  3\n",
            "평균 :  63.333333333333336\n"
          ]
        }
      ],
      "source": [
        "score=[]\n",
        "\n",
        "\n",
        "while True:\n",
        "  a=input(\"학생의 점수를 입력하세요.\")\n",
        "  if not a.isdigit() :\n",
        "   break\n",
        "  a=int(a)\n",
        "  score.append(a)\n",
        "\n",
        "print(\"입력 데이터 출력 : \", score)\n",
        "total=sum(score)\n",
        "num=len(score)\n",
        "average=total/num\n",
        "print(\"합계 : \", total)\n",
        "print(\"총 인원수 : \", num)\n",
        "print(\"평균 : \", average)\n"
      ]
    },
    {
      "cell_type": "code",
      "source": [],
      "metadata": {
        "id": "f0zDfhFWdtO6"
      },
      "execution_count": 5,
      "outputs": []
    }
  ]
}